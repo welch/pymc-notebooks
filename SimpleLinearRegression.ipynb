{
 "metadata": {
  "name": ""
 },
 "nbformat": 3,
 "nbformat_minor": 0,
 "worksheets": [
  {
   "cells": [
    {
     "cell_type": "heading",
     "level": 1,
     "metadata": {},
     "source": [
      "Simple Linear Regression"
     ]
    },
    {
     "cell_type": "markdown",
     "metadata": {},
     "source": [
      "This notebook presents PyMC implementations of the Bayesian simple linear regression models described in [Kruschke](http://amzn.com/0123814855), Ch. 16. We'll start with a no-frills linear regression of a single metric response on a single metric predictor, then modify that for robustness, and finally add hierarchy to deal with repeated measures among multiple subjects. "
     ]
    },
    {
     "cell_type": "code",
     "collapsed": false,
     "input": [
      "# Set up the environment for successive computational cells. \n",
      "# This stuff will not be repeated below, be sure to run this cell first.\n",
      "\n",
      "import pymc as mc\n",
      "import numpy as np\n",
      "import pandas as pd\n",
      "from IPython.display import Image\n",
      "\n",
      "class Struct:\n",
      "    # convenience 'bag of attributes' class\n",
      "    def __init__(self, **entries): self.__dict__.update(entries)\n",
      "\n",
      "def show_graph(model):\n",
      "    \"\"\"display a graphical representation of the model\"\"\"\n",
      "    graph = mc.graph.graph(model)\n",
      "    Image(graph.create_png())\n",
      "\n",
      "def posterior_hist(trace, label=\"\", HDI=.95, alpha=1.0):   \n",
      "    \"\"\"Render a histogram of the posterior sampling distribution of a model variable.\"\"\"\n",
      "    t = sorted(trace)\n",
      "    h = hist(t, normed=True, alpha=alpha, label=\"%s:%.2f\" % (label, mean(t)))\n",
      "    ymax = max(h[0])\n",
      "    axvline(mean(t), c='red', linestyle='-.')\n",
      "    hdidx = int(len(t)*(1 - HDI)/2.) \n",
      "    annotate(\"\", xy=(t[hdidx],0), xytext=(t[-hdidx],0),\n",
      "             arrowprops=dict(arrowstyle=\"|-|\", connectionstyle=\"arc3\", color='k',lw=2))\n",
      "    \n",
      "def ci_patch(x, ci, **kwds):\n",
      "    \"\"\"create a bounding polygon for the confidence intervals vs x\"\"\"\n",
      "    x, ci = zip(*sorted(zip(x,ci))) # sort x and ci by x\n",
      "    cit = zip(*ci) \n",
      "    diff = np.array(cit[1]) - np.array(cit[0])\n",
      "    print \"CI: min=%f, max=%f\" % (min(diff), max(diff))\n",
      "    return Polygon(zip(x,cit[0]) + zip(x, cit[1])[::-1], **kwds)\n",
      "\n",
      "def predict_ci(mu, tau, HDI=.95):\n",
      "    \"\"\"sample the posterior distribution of predicted y's using \n",
      "       values from the parameter traces to construct normal distributions\n",
      "       from which to sample. return the specified\n",
      "       HDI confidence interval.\"\"\"\n",
      "    y_pred = []\n",
      "    if hasattr(tau, 'trace'):\n",
      "        tau_trace = tau.trace()\n",
      "    else:\n",
      "        tau_trace = np.ones(len(mu.trace())) * tau\n",
      "    for mui, taui in zip(mu.trace(), tau_trace):\n",
      "        y_pred.extend(np.random.normal(loc=mui, scale=sqrt(1/taui), size=1000))\n",
      "    y_pred = sort(y_pred)\n",
      "    hdidx = int(len(y_pred)*(1 - HDI)/2.) \n",
      "    return (y_pred[hdidx], y_pred[-hdidx])\n",
      "\n",
      "def plot_regression(x, y, mu, tau, titlestr=\"\", HDI=.95):\n",
      "    \"\"\"plot the regression results. X and Y are vectors of floats, \n",
      "       mu is a list of regression mean stochastics for y[i] on x[i],\n",
      "       tau is the precision stochastic\"\"\"\n",
      "    ax = gca()\n",
      "    ax.scatter(x,y,color='k')\n",
      "    if hasattr(x,'name'):\n",
      "        xlabel(x.name)\n",
      "    if hasattr(y,'name'):\n",
      "        ylabel(y.name)\n",
      "    if titlestr:\n",
      "        title(titlestr)\n",
      "    if hasattr(mu[0], 'trace'):\n",
      "        means = [mui.stats()['mean'] for mui in mu]\n",
      "        slope = mu[0].parents['y'][1].stats()['mean']\n",
      "    else:\n",
      "        means = [mui.value for mui in mu]\n",
      "        slope = mu[0].parents['y'][1].value\n",
      "    sx, smeans = zip(*sorted(zip(x, means))) # sort x,mean pairs by x and return as lists\n",
      "    ax.plot(sx, smeans, color='b', label=\"slope=%f\" % slope)\n",
      "    legend()\n",
      "    # 95% ci for the mean\n",
      "    if hasattr(mu[0], 'trace'):\n",
      "        ci_mu = [tuple(mui.stats()['95% HPD interval']) for mui in mu]\n",
      "        ax.add_patch(ci_patch(x, ci_mu, color='b', alpha=.2))\n",
      "        draw_if_interactive()    \n",
      "        # 95% ci for the predicted y's\n",
      "        ci_y = [predict_ci(mui, tau, HDI) for mui in mu]\n",
      "        ax.add_patch(ci_patch(x, ci_y, color='k', alpha=.2))\n",
      "        draw_if_interactive()    \n",
      "    else:\n",
      "        # 95% ci for predicted y's assuming normal centered at current mu\n",
      "        ci_y = [(mui.value - 1.96/sqrt(tau.value), mui.value + 1.96/sqrt(tau.value)) for mui in mu] \n",
      "        ax.add_patch(ci_patch(x, ci_y, color='r', alpha=.2))\n",
      "        draw_if_interactive()    \n"
     ],
     "language": "python",
     "metadata": {},
     "outputs": []
    },
    {
     "cell_type": "markdown",
     "metadata": {},
     "source": [
      "The first data set is height and weight pairs randomly generated using Kruschke's HtWtDataGenerator.R and saved as htwt.csv for loading here:"
     ]
    },
    {
     "cell_type": "code",
     "collapsed": false,
     "input": [
      "# Note: when reading, do not let column 0 be used as the index. \n",
      "# It starts at 1, and you will later be in a world of pain\n",
      "# wondering whether you are referring to the item at position\n",
      "# 1 or the item named 1 (which is in position 0). \n",
      "htwt = pd.read_csv(\"data/htwt.csv\", index_col=None)\n",
      "htwt.describe()"
     ],
     "language": "python",
     "metadata": {},
     "outputs": []
    },
    {
     "cell_type": "code",
     "collapsed": false,
     "input": [
      "scatter(htwt.height, htwt.weight);"
     ],
     "language": "python",
     "metadata": {},
     "outputs": []
    },
    {
     "cell_type": "markdown",
     "metadata": {},
     "source": [
      "We will fit a simple generalized linear model for weight (y) predicted by height (x):\n",
      "\n",
      "$y_i \\sim N(\\mu_i, \\tau)$\n",
      "\n",
      "$\\mu_i = \\beta_0 + \\beta_1x_i$\n",
      "\n",
      "$\\tau = 1/\\sigma^2$"
     ]
    },
    {
     "cell_type": "code",
     "collapsed": false,
     "input": [
      "import pymc as pm\n",
      "\n",
      "def make_normal_model(x, y):\n",
      "    \"\"\"\n",
      "    return a dict of model variables for the model constructor\n",
      "    \"\"\"\n",
      "    # priors for the regression coefficients and variance/precision.\n",
      "    # initialize beta to suit the data, or the MAP initializer may not converge.\n",
      "    beta = mc.Container((mc.Normal(\"beta_0\", mu=mean(y), tau=1e-12, value=mean(y)), # population intercept\n",
      "                         mc.Normal(\"beta_1\", mu=0, tau=1e-12, value=0))) # population slope\n",
      "    tau = mc.Gamma(\"tau\", alpha=.001, beta=.001, value=.001)   # population precision\n",
      "\n",
      "    # The distribution of each y_i has mean that is a deterministic function of the x_i\n",
      "    mu = mc.Container([mc.LinearCombination(\"mu_%d\" % i, (1, x[i]), beta)\n",
      "                       for i in x.index])\n",
      "\n",
      "    # likelihood for the data\n",
      "    y_obs = mc.Container([mc.Normal(\"y_%d\" % i, mu=mu[i], tau=tau, value=y[i], observed=True) \n",
      "                          for i in y.index])\n",
      "    \n",
      "    return mc.Model(input=locals())\n",
      "\n",
      "M = make_normal_model(htwt.height, htwt.weight)\n",
      "print M.beta[0].value, M.beta[1].value\n",
      "figure()\n",
      "plot_regression(htwt.height, htwt.weight, M.mu, M.tau, \"pre MAP estimate\")\n",
      "show()\n",
      "mc.MAP(M).fit()\n",
      "plot_regression(htwt.height, htwt.weight, M.mu, M.tau, \"initial MAP estimate\")\n",
      "show()\n",
      "S = mc.MCMC(input=M, db='ram')"
     ],
     "language": "python",
     "metadata": {},
     "outputs": [
      {
       "output_type": "stream",
       "stream": "stdout",
       "text": [
        "164.996666667 0.0\n",
        "CI: min=123.961284, max=123.961284"
       ]
      },
      {
       "output_type": "stream",
       "stream": "stdout",
       "text": [
        "\n"
       ]
      },
      {
       "metadata": {},
       "output_type": "display_data",
       "png": "[encoded data removed]",
       "text": [
        "<matplotlib.figure.Figure at 0x10dab2910>"
       ]
      },
      {
       "output_type": "stream",
       "stream": "stdout",
       "text": [
        "CI: min=141.768611, max=141.768611\n"
       ]
      },
      {
       "metadata": {},
       "output_type": "display_data",
       "png": "[encoded data removed]",
       "text": [
        "<matplotlib.figure.Figure at 0x115297490>"
       ]
      }
     ],
     "prompt_number": 48
    },
    {
     "cell_type": "code",
     "collapsed": false,
     "input": [
      "S.sample(10000, burn=1000, thin=10)"
     ],
     "language": "python",
     "metadata": {},
     "outputs": [
      {
       "output_type": "stream",
       "stream": "stdout",
       "text": [
        "\r",
        " [                  2%                  ] 248 of 10000 complete in 0.5 sec"
       ]
      },
      {
       "output_type": "stream",
       "stream": "stdout",
       "text": [
        "\r",
        " [--                5%                  ] 531 of 10000 complete in 1.0 sec"
       ]
      },
      {
       "output_type": "stream",
       "stream": "stdout",
       "text": [
        "\r",
        " [---               8%                  ] 803 of 10000 complete in 1.5 sec"
       ]
      },
      {
       "output_type": "stream",
       "stream": "stdout",
       "text": [
        "\r",
        " [---              10%                  ] 1051 of 10000 complete in 2.0 sec"
       ]
      },
      {
       "output_type": "stream",
       "stream": "stdout",
       "text": [
        "\r",
        " [-----            13%                  ] 1320 of 10000 complete in 2.5 sec"
       ]
      },
      {
       "output_type": "stream",
       "stream": "stdout",
       "text": [
        "\r",
        " [------           15%                  ] 1579 of 10000 complete in 3.0 sec"
       ]
      },
      {
       "output_type": "stream",
       "stream": "stdout",
       "text": [
        "\r",
        " [-------          18%                  ] 1848 of 10000 complete in 3.5 sec"
       ]
      },
      {
       "output_type": "stream",
       "stream": "stdout",
       "text": [
        "\r",
        " [--------         21%                  ] 2109 of 10000 complete in 4.0 sec"
       ]
      },
      {
       "output_type": "stream",
       "stream": "stdout",
       "text": [
        "\r",
        " [---------        23%                  ] 2382 of 10000 complete in 4.5 sec"
       ]
      },
      {
       "output_type": "stream",
       "stream": "stdout",
       "text": [
        "\r",
        " [----------       26%                  ] 2651 of 10000 complete in 5.0 sec"
       ]
      },
      {
       "output_type": "stream",
       "stream": "stdout",
       "text": [
        "\r",
        " [-----------      29%                  ] 2914 of 10000 complete in 5.5 sec"
       ]
      },
      {
       "output_type": "stream",
       "stream": "stdout",
       "text": [
        "\r",
        " [------------     31%                  ] 3185 of 10000 complete in 6.0 sec"
       ]
      },
      {
       "output_type": "stream",
       "stream": "stdout",
       "text": [
        "\r",
        " [-------------    34%                  ] 3449 of 10000 complete in 6.5 sec"
       ]
      },
      {
       "output_type": "stream",
       "stream": "stdout",
       "text": [
        "\r",
        " [--------------   37%                  ] 3723 of 10000 complete in 7.0 sec"
       ]
      },
      {
       "output_type": "stream",
       "stream": "stdout",
       "text": [
        "\r",
        " [---------------  39%                  ] 3999 of 10000 complete in 7.5 sec"
       ]
      },
      {
       "output_type": "stream",
       "stream": "stdout",
       "text": [
        "\r",
        " [---------------- 42%                  ] 4267 of 10000 complete in 8.0 sec"
       ]
      },
      {
       "output_type": "stream",
       "stream": "stdout",
       "text": [
        "\r",
        " [-----------------45%                  ] 4549 of 10000 complete in 8.5 sec"
       ]
      },
      {
       "output_type": "stream",
       "stream": "stdout",
       "text": [
        "\r",
        " [-----------------48%                  ] 4814 of 10000 complete in 9.0 sec"
       ]
      },
      {
       "output_type": "stream",
       "stream": "stdout",
       "text": [
        "\r",
        " [-----------------50%                  ] 5099 of 10000 complete in 9.5 sec"
       ]
      },
      {
       "output_type": "stream",
       "stream": "stdout",
       "text": [
        "\r",
        " [-----------------53%                  ] 5378 of 10000 complete in 10.0 sec"
       ]
      },
      {
       "output_type": "stream",
       "stream": "stdout",
       "text": [
        "\r",
        " [-----------------56%-                 ] 5637 of 10000 complete in 10.5 sec"
       ]
      },
      {
       "output_type": "stream",
       "stream": "stdout",
       "text": [
        "\r",
        " [-----------------59%--                ] 5908 of 10000 complete in 11.0 sec"
       ]
      },
      {
       "output_type": "stream",
       "stream": "stdout",
       "text": [
        "\r",
        " [-----------------61%---               ] 6167 of 10000 complete in 11.5 sec"
       ]
      },
      {
       "output_type": "stream",
       "stream": "stdout",
       "text": [
        "\r",
        " [-----------------64%----              ] 6422 of 10000 complete in 12.0 sec"
       ]
      },
      {
       "output_type": "stream",
       "stream": "stdout",
       "text": [
        "\r",
        " [-----------------66%-----             ] 6683 of 10000 complete in 12.5 sec"
       ]
      },
      {
       "output_type": "stream",
       "stream": "stdout",
       "text": [
        "\r",
        " [-----------------69%------            ] 6920 of 10000 complete in 13.0 sec"
       ]
      },
      {
       "output_type": "stream",
       "stream": "stdout",
       "text": [
        "\r",
        " [-----------------71%-------           ] 7187 of 10000 complete in 13.5 sec"
       ]
      },
      {
       "output_type": "stream",
       "stream": "stdout",
       "text": [
        "\r",
        " [-----------------74%--------          ] 7474 of 10000 complete in 14.0 sec"
       ]
      },
      {
       "output_type": "stream",
       "stream": "stdout",
       "text": [
        "\r",
        " [-----------------77%---------         ] 7748 of 10000 complete in 14.5 sec"
       ]
      },
      {
       "output_type": "stream",
       "stream": "stdout",
       "text": [
        "\r",
        " [-----------------80%----------        ] 8032 of 10000 complete in 15.0 sec"
       ]
      },
      {
       "output_type": "stream",
       "stream": "stdout",
       "text": [
        "\r",
        " [-----------------83%-----------       ] 8314 of 10000 complete in 15.5 sec"
       ]
      },
      {
       "output_type": "stream",
       "stream": "stdout",
       "text": [
        "\r",
        " [-----------------85%------------      ] 8584 of 10000 complete in 16.0 sec"
       ]
      },
      {
       "output_type": "stream",
       "stream": "stdout",
       "text": [
        "\r",
        " [-----------------88%-------------     ] 8870 of 10000 complete in 16.5 sec"
       ]
      },
      {
       "output_type": "stream",
       "stream": "stdout",
       "text": [
        "\r",
        " [-----------------91%--------------    ] 9158 of 10000 complete in 17.0 sec"
       ]
      },
      {
       "output_type": "stream",
       "stream": "stdout",
       "text": [
        "\r",
        " [-----------------94%---------------   ] 9431 of 10000 complete in 17.5 sec"
       ]
      },
      {
       "output_type": "stream",
       "stream": "stdout",
       "text": [
        "\r",
        " [-----------------96%----------------  ] 9689 of 10000 complete in 18.0 sec"
       ]
      },
      {
       "output_type": "stream",
       "stream": "stdout",
       "text": [
        "\r",
        " [-----------------99%----------------- ] 9938 of 10000 complete in 18.5 sec"
       ]
      },
      {
       "output_type": "stream",
       "stream": "stdout",
       "text": [
        "\r",
        " [-----------------100%-----------------] 10000 of 10000 complete in 18.7 sec"
       ]
      }
     ],
     "prompt_number": 50
    },
    {
     "cell_type": "markdown",
     "metadata": {},
     "source": [
      "On to the results:"
     ]
    },
    {
     "cell_type": "code",
     "collapsed": false,
     "input": [
      "plot_regression(htwt.height, htwt.weight, M.mu, M.tau, \"MC posterior estimate\")\n",
      "figure()\n",
      "posterior_hist(M.beta[0].trace(), \"beta0\")\n",
      "legend()\n",
      "show()\n",
      "posterior_hist(M.beta[1].trace(), \"beta1\")\n",
      "legend()\n",
      "show()"
     ],
     "language": "python",
     "metadata": {},
     "outputs": [
      {
       "output_type": "stream",
       "stream": "stdout",
       "text": [
        "CI: min=27.057521, max=56.985531\n",
        "CI: min=151.077212, max=159.830341"
       ]
      },
      {
       "output_type": "stream",
       "stream": "stdout",
       "text": [
        "\n"
       ]
      },
      {
       "metadata": {},
       "output_type": "display_data",
       "png": "[encoded data removed]",
       "text": [
        "<matplotlib.figure.Figure at 0x10ee52d50>"
       ]
      },
      {
       "metadata": {},
       "output_type": "display_data",
       "png": "[encoded data removed]",
       "text": [
        "<matplotlib.figure.Figure at 0x10ee52110>"
       ]
      },
      {
       "metadata": {},
       "output_type": "display_data",
       "png": "[encoded data removed]",
       "text": [
        "<matplotlib.figure.Figure at 0x10df2a790>"
       ]
      }
     ],
     "prompt_number": 51
    },
    {
     "cell_type": "markdown",
     "metadata": {},
     "source": [
      "The blue area is the 95% confidence interval around the estimated mean for each y. The gray area is the 95% HDI of predicted y's drawn as samples from distributions of $\\mu$ and $\\tau$."
     ]
    },
    {
     "cell_type": "heading",
     "level": 3,
     "metadata": {},
     "source": [
      "Centered Data"
     ]
    },
    {
     "cell_type": "markdown",
     "metadata": {},
     "source": [
      "Although the point results above look reasonable, there is a lot of variation in the shapes of the posteriors over repreated runs. And occasionally the MAP estimate blows up and the sampling run never recovers. This is because credible values of $\\beta_0$ and $\\beta_1$ are highly negatively correlated (a higher y-intercept implies a lower slope so the line will go through the center of the data mass). The MCMC can have trouble traversing the sample space because it cannot change $\\beta_0$ and $\\beta_1$ independently without falling out of the credible region.\n",
      "\n",
      "The standard cure for this is to first center the data:"
     ]
    },
    {
     "cell_type": "code",
     "collapsed": false,
     "input": [
      "h = pd.Series(htwt.height - htwt.height.mean(), name=\"height - %d\" % int(htwt.height.mean()))\n",
      "w = pd.Series(htwt.weight - htwt.weight.mean(), name=\"weight - %d\" % int(htwt.weight.mean()))\n",
      "M = make_normal_model(h,w)\n",
      "mc.MAP(M).fit()\n",
      "plot_regression(h, w, M.mu, M.tau, \"initial MAP estimate\")\n",
      "show()"
     ],
     "language": "python",
     "metadata": {},
     "outputs": [
      {
       "output_type": "stream",
       "stream": "stdout",
       "text": [
        "CI: min=155.304343, max=155.304343\n"
       ]
      },
      {
       "metadata": {},
       "output_type": "display_data",
       "png": "[encoded data removed]",
       "text": [
        "<matplotlib.figure.Figure at 0x10ef1c250>"
       ]
      }
     ],
     "prompt_number": 52
    },
    {
     "cell_type": "code",
     "collapsed": false,
     "input": [
      "S_c = mc.MCMC(input=M, db='ram')\n",
      "S_c.sample(10000, burn=1000, thin=10)"
     ],
     "language": "python",
     "metadata": {},
     "outputs": [
      {
       "output_type": "stream",
       "stream": "stdout",
       "text": [
        "\r",
        " [-                 3%                  ] 302 of 10000 complete in 0.5 sec"
       ]
      },
      {
       "output_type": "stream",
       "stream": "stdout",
       "text": [
        "\r",
        " [--                6%                  ] 607 of 10000 complete in 1.0 sec"
       ]
      },
      {
       "output_type": "stream",
       "stream": "stdout",
       "text": [
        "\r",
        " [---               9%                  ] 917 of 10000 complete in 1.5 sec"
       ]
      },
      {
       "output_type": "stream",
       "stream": "stdout",
       "text": [
        "\r",
        " [----             12%                  ] 1231 of 10000 complete in 2.0 sec"
       ]
      },
      {
       "output_type": "stream",
       "stream": "stdout",
       "text": [
        "\r",
        " [-----            15%                  ] 1529 of 10000 complete in 2.5 sec"
       ]
      },
      {
       "output_type": "stream",
       "stream": "stdout",
       "text": [
        "\r",
        " [------           18%                  ] 1831 of 10000 complete in 3.0 sec"
       ]
      },
      {
       "output_type": "stream",
       "stream": "stdout",
       "text": [
        "\r",
        " [--------         21%                  ] 2153 of 10000 complete in 3.5 sec"
       ]
      },
      {
       "output_type": "stream",
       "stream": "stdout",
       "text": [
        "\r",
        " [---------        24%                  ] 2445 of 10000 complete in 4.0 sec"
       ]
      },
      {
       "output_type": "stream",
       "stream": "stdout",
       "text": [
        "\r",
        " [----------       27%                  ] 2747 of 10000 complete in 4.5 sec"
       ]
      },
      {
       "output_type": "stream",
       "stream": "stdout",
       "text": [
        "\r",
        " [-----------      30%                  ] 3051 of 10000 complete in 5.0 sec"
       ]
      },
      {
       "output_type": "stream",
       "stream": "stdout",
       "text": [
        "\r",
        " [------------     33%                  ] 3354 of 10000 complete in 5.5 sec"
       ]
      },
      {
       "output_type": "stream",
       "stream": "stdout",
       "text": [
        "\r",
        " [-------------    36%                  ] 3667 of 10000 complete in 6.0 sec"
       ]
      },
      {
       "output_type": "stream",
       "stream": "stdout",
       "text": [
        "\r",
        " [---------------  39%                  ] 3974 of 10000 complete in 6.5 sec"
       ]
      },
      {
       "output_type": "stream",
       "stream": "stdout",
       "text": [
        "\r",
        " [---------------- 42%                  ] 4276 of 10000 complete in 7.0 sec"
       ]
      },
      {
       "output_type": "stream",
       "stream": "stdout",
       "text": [
        "\r",
        " [-----------------45%                  ] 4585 of 10000 complete in 7.5 sec"
       ]
      },
      {
       "output_type": "stream",
       "stream": "stdout",
       "text": [
        "\r",
        " [-----------------48%                  ] 4881 of 10000 complete in 8.0 sec"
       ]
      },
      {
       "output_type": "stream",
       "stream": "stdout",
       "text": [
        "\r",
        " [-----------------52%                  ] 5200 of 10000 complete in 8.5 sec"
       ]
      },
      {
       "output_type": "stream",
       "stream": "stdout",
       "text": [
        "\r",
        " [-----------------55%                  ] 5508 of 10000 complete in 9.0 sec"
       ]
      },
      {
       "output_type": "stream",
       "stream": "stdout",
       "text": [
        "\r",
        " [-----------------58%--                ] 5814 of 10000 complete in 9.5 sec"
       ]
      },
      {
       "output_type": "stream",
       "stream": "stdout",
       "text": [
        "\r",
        " [-----------------61%---               ] 6120 of 10000 complete in 10.0 sec"
       ]
      },
      {
       "output_type": "stream",
       "stream": "stdout",
       "text": [
        "\r",
        " [-----------------64%----              ] 6434 of 10000 complete in 10.5 sec"
       ]
      },
      {
       "output_type": "stream",
       "stream": "stdout",
       "text": [
        "\r",
        " [-----------------67%-----             ] 6741 of 10000 complete in 11.0 sec"
       ]
      },
      {
       "output_type": "stream",
       "stream": "stdout",
       "text": [
        "\r",
        " [-----------------70%------            ] 7047 of 10000 complete in 11.5 sec"
       ]
      },
      {
       "output_type": "stream",
       "stream": "stdout",
       "text": [
        "\r",
        " [-----------------73%-------           ] 7353 of 10000 complete in 12.0 sec"
       ]
      },
      {
       "output_type": "stream",
       "stream": "stdout",
       "text": [
        "\r",
        " [-----------------76%---------         ] 7662 of 10000 complete in 12.5 sec"
       ]
      },
      {
       "output_type": "stream",
       "stream": "stdout",
       "text": [
        "\r",
        " [-----------------79%----------        ] 7972 of 10000 complete in 13.0 sec"
       ]
      },
      {
       "output_type": "stream",
       "stream": "stdout",
       "text": [
        "\r",
        " [-----------------82%-----------       ] 8290 of 10000 complete in 13.5 sec"
       ]
      },
      {
       "output_type": "stream",
       "stream": "stdout",
       "text": [
        "\r",
        " [-----------------86%------------      ] 8604 of 10000 complete in 14.0 sec"
       ]
      },
      {
       "output_type": "stream",
       "stream": "stdout",
       "text": [
        "\r",
        " [-----------------89%-------------     ] 8909 of 10000 complete in 14.5 sec"
       ]
      },
      {
       "output_type": "stream",
       "stream": "stdout",
       "text": [
        "\r",
        " [-----------------92%---------------   ] 9215 of 10000 complete in 15.0 sec"
       ]
      },
      {
       "output_type": "stream",
       "stream": "stdout",
       "text": [
        "\r",
        " [-----------------95%----------------  ] 9533 of 10000 complete in 15.5 sec"
       ]
      },
      {
       "output_type": "stream",
       "stream": "stdout",
       "text": [
        "\r",
        " [-----------------98%----------------- ] 9846 of 10000 complete in 16.0 sec"
       ]
      },
      {
       "output_type": "stream",
       "stream": "stdout",
       "text": [
        "\r",
        " [-----------------100%-----------------] 10000 of 10000 complete in 16.3 sec"
       ]
      }
     ],
     "prompt_number": 53
    },
    {
     "cell_type": "code",
     "collapsed": false,
     "input": [
      "plot_regression(h, w, M.mu, M.tau, \"MC posterior estimate\")\n",
      "show()\n",
      "posterior_hist(M.beta[0].trace(), \"beta0\")\n",
      "legend()\n",
      "show()\n",
      "posterior_hist(M.beta[1].trace(), \"beta1\")\n",
      "legend()\n",
      "show()"
     ],
     "language": "python",
     "metadata": {},
     "outputs": [
      {
       "output_type": "stream",
       "stream": "stdout",
       "text": [
        "CI: min=0.423043, max=58.110555\n",
        "CI: min=146.044310, max=161.022784"
       ]
      },
      {
       "output_type": "stream",
       "stream": "stdout",
       "text": [
        "\n"
       ]
      },
      {
       "metadata": {},
       "output_type": "display_data",
       "png": "[encoded data removed]",
       "text": [
        "<matplotlib.figure.Figure at 0x1152a3b50>"
       ]
      },
      {
       "metadata": {},
       "output_type": "display_data",
       "png": "[encoded data removed]",
       "text": [
        "<matplotlib.figure.Figure at 0x10daeec50>"
       ]
      },
      {
       "metadata": {},
       "output_type": "display_data",
       "png": "[encoded data removed]",
       "text": [
        "<matplotlib.figure.Figure at 0x10fbe6510>"
       ]
      }
     ],
     "prompt_number": 54
    },
    {
     "cell_type": "markdown",
     "metadata": {},
     "source": [
      "The $\\beta_1$ estimate is nearly the same as before. But this yields much tidier-looking $\\beta$ posteriors, with a much tighter interval for $\\beta_0$ around 0."
     ]
    },
    {
     "cell_type": "heading",
     "level": 2,
     "metadata": {},
     "source": [
      "Robust Regression"
     ]
    },
    {
     "cell_type": "markdown",
     "metadata": {},
     "source": [
      "The normal likelihood used for $\\mu_i$ is sensitive to outliers. The example in section 16.2 demonstrates this with data for 25 brands of cigarettes ([McIntyre1994](data/McIntyre1994data.csv)), attempting to predict tar content from weight:"
     ]
    },
    {
     "cell_type": "code",
     "collapsed": false,
     "input": [
      "cig = pd.read_csv(\"data/McIntyre1994data.csv\")\n",
      "print cig\n"
     ],
     "language": "python",
     "metadata": {},
     "outputs": [
      {
       "output_type": "stream",
       "stream": "stdout",
       "text": [
        "               Brand   Tar   Nic      Wt    CO\n",
        "0             Alpine  14.1  0.86  0.9853  13.6\n",
        "1    BensonAndHedges  16.0  1.06  1.0938  16.6\n",
        "2         BullDurham  29.8  2.03  1.1650  23.5\n",
        "3        CamelLights   8.0  0.67  0.9280  10.2\n",
        "4            Carlton   4.1  0.40  0.9462   5.4\n",
        "5       Chesterfield  15.0  1.04  0.8885  15.0\n",
        "6       GoldenLights   8.8  0.76  1.0267   9.0\n",
        "7               Kent  12.4  0.95  0.9225  12.3\n",
        "8               Kool  16.6  1.12  0.9372  16.3\n",
        "9              LandM  14.9  1.02  0.8858  15.4\n",
        "10        LarkLights  13.7  1.01  0.9643  13.0\n",
        "11          Marlboro  15.1  0.90  0.9316  14.4\n",
        "12             Merit   7.8  0.57  0.9705  10.0\n",
        "13       MultiFilter  11.4  0.78  1.1240  10.2\n",
        "14     NewportLights   9.0  0.74  0.8517   9.5\n",
        "15               Now   1.0  0.13  0.7851   1.5\n",
        "16           OldGold  17.0  1.26  0.9186  18.5\n",
        "17     PallMallLight  12.8  1.08  1.0395  12.6\n",
        "18           Raleigh  15.8  0.96  0.9573  17.5\n",
        "19        SalemUltra   4.5  0.42  0.9106   4.9\n",
        "20          Tareyton  14.5  1.01  1.0070  15.9\n",
        "21              True   7.3  0.61  0.9806   8.5\n",
        "22  ViceroyRichLight   8.6  0.69  0.9693  10.6\n",
        "23     VirginiaSlims  15.2  1.02  0.9496  13.9\n",
        "24     WinstonLights  12.0  0.82  1.1184  14.9\n"
       ]
      }
     ],
     "prompt_number": 55
    },
    {
     "cell_type": "code",
     "collapsed": false,
     "input": [
      "#w = pd.Series(cig.Wt - cig.Wt.mean(), name=\"Weight - %d\" % cig.Wt.mean())\n",
      "#t = pd.Series(cig.Tar - cig.Tar.mean(), name=\"Tar - %d\" % cig.Tar.mean())\n",
      "w = cig.Wt\n",
      "t = cig.Tar\n",
      "figure()\n",
      "M = make_normal_model(w, t)\n",
      "mc.MAP(M).fit()\n",
      "plot_regression(w, t, M.mu, M.tau, \"initial MAP estimate\")\n",
      "show()"
     ],
     "language": "python",
     "metadata": {},
     "outputs": [
      {
       "output_type": "stream",
       "stream": "stdout",
       "text": [
        "CI: min=19.766757, max=19.766757\n"
       ]
      },
      {
       "metadata": {},
       "output_type": "display_data",
       "png": "[encoded data removed]",
       "text": [
        "<matplotlib.figure.Figure at 0x10d299210>"
       ]
      }
     ],
     "prompt_number": 56
    },
    {
     "cell_type": "code",
     "collapsed": false,
     "input": [
      "S = mc.MCMC(input=M, db='ram')\n",
      "S.sample(10000, burn=1000, thin=10)"
     ],
     "language": "python",
     "metadata": {},
     "outputs": [
      {
       "output_type": "stream",
       "stream": "stdout",
       "text": [
        "\r",
        " [-                 3%                  ] 300 of 10000 complete in 0.5 sec"
       ]
      },
      {
       "output_type": "stream",
       "stream": "stdout",
       "text": [
        "\r",
        " [--                6%                  ] 616 of 10000 complete in 1.0 sec"
       ]
      },
      {
       "output_type": "stream",
       "stream": "stdout",
       "text": [
        "\r",
        " [---               9%                  ] 928 of 10000 complete in 1.5 sec"
       ]
      },
      {
       "output_type": "stream",
       "stream": "stdout",
       "text": [
        "\r",
        " [----             12%                  ] 1232 of 10000 complete in 2.0 sec"
       ]
      },
      {
       "output_type": "stream",
       "stream": "stdout",
       "text": [
        "\r",
        " [-----            15%                  ] 1562 of 10000 complete in 2.5 sec"
       ]
      },
      {
       "output_type": "stream",
       "stream": "stdout",
       "text": [
        "\r",
        " [-------          18%                  ] 1878 of 10000 complete in 3.0 sec"
       ]
      },
      {
       "output_type": "stream",
       "stream": "stdout",
       "text": [
        "\r",
        " [--------         21%                  ] 2190 of 10000 complete in 3.5 sec"
       ]
      },
      {
       "output_type": "stream",
       "stream": "stdout",
       "text": [
        "\r",
        " [---------        25%                  ] 2502 of 10000 complete in 4.0 sec"
       ]
      },
      {
       "output_type": "stream",
       "stream": "stdout",
       "text": [
        "\r",
        " [----------       28%                  ] 2817 of 10000 complete in 4.5 sec"
       ]
      },
      {
       "output_type": "stream",
       "stream": "stdout",
       "text": [
        "\r",
        " [-----------      31%                  ] 3137 of 10000 complete in 5.0 sec"
       ]
      },
      {
       "output_type": "stream",
       "stream": "stdout",
       "text": [
        "\r",
        " [-------------    34%                  ] 3451 of 10000 complete in 5.5 sec"
       ]
      },
      {
       "output_type": "stream",
       "stream": "stdout",
       "text": [
        "\r",
        " [--------------   37%                  ] 3765 of 10000 complete in 6.0 sec"
       ]
      },
      {
       "output_type": "stream",
       "stream": "stdout",
       "text": [
        "\r",
        " [---------------  40%                  ] 4068 of 10000 complete in 6.5 sec"
       ]
      },
      {
       "output_type": "stream",
       "stream": "stdout",
       "text": [
        "\r",
        " [---------------- 43%                  ] 4378 of 10000 complete in 7.0 sec"
       ]
      },
      {
       "output_type": "stream",
       "stream": "stdout",
       "text": [
        "\r",
        " [-----------------46%                  ] 4670 of 10000 complete in 7.5 sec"
       ]
      },
      {
       "output_type": "stream",
       "stream": "stdout",
       "text": [
        "\r",
        " [-----------------49%                  ] 4951 of 10000 complete in 8.0 sec"
       ]
      },
      {
       "output_type": "stream",
       "stream": "stdout",
       "text": [
        "\r",
        " [-----------------52%                  ] 5232 of 10000 complete in 8.5 sec"
       ]
      },
      {
       "output_type": "stream",
       "stream": "stdout",
       "text": [
        "\r",
        " [-----------------55%-                 ] 5541 of 10000 complete in 9.0 sec"
       ]
      },
      {
       "output_type": "stream",
       "stream": "stdout",
       "text": [
        "\r",
        " [-----------------58%--                ] 5869 of 10000 complete in 9.5 sec"
       ]
      },
      {
       "output_type": "stream",
       "stream": "stdout",
       "text": [
        "\r",
        " [-----------------61%---               ] 6181 of 10000 complete in 10.0 sec"
       ]
      },
      {
       "output_type": "stream",
       "stream": "stdout",
       "text": [
        "\r",
        " [-----------------65%----              ] 6520 of 10000 complete in 10.5 sec"
       ]
      },
      {
       "output_type": "stream",
       "stream": "stdout",
       "text": [
        "\r",
        " [-----------------68%------            ] 6849 of 10000 complete in 11.0 sec"
       ]
      },
      {
       "output_type": "stream",
       "stream": "stdout",
       "text": [
        "\r",
        " [-----------------71%-------           ] 7163 of 10000 complete in 11.5 sec"
       ]
      },
      {
       "output_type": "stream",
       "stream": "stdout",
       "text": [
        "\r",
        " [-----------------74%--------          ] 7481 of 10000 complete in 12.0 sec"
       ]
      },
      {
       "output_type": "stream",
       "stream": "stdout",
       "text": [
        "\r",
        " [-----------------77%---------         ] 7796 of 10000 complete in 12.5 sec"
       ]
      },
      {
       "output_type": "stream",
       "stream": "stdout",
       "text": [
        "\r",
        " [-----------------81%----------        ] 8131 of 10000 complete in 13.0 sec"
       ]
      },
      {
       "output_type": "stream",
       "stream": "stdout",
       "text": [
        "\r",
        " [-----------------84%------------      ] 8455 of 10000 complete in 13.5 sec"
       ]
      },
      {
       "output_type": "stream",
       "stream": "stdout",
       "text": [
        "\r",
        " [-----------------87%-------------     ] 8778 of 10000 complete in 14.0 sec"
       ]
      },
      {
       "output_type": "stream",
       "stream": "stdout",
       "text": [
        "\r",
        " [-----------------91%--------------    ] 9111 of 10000 complete in 14.5 sec"
       ]
      },
      {
       "output_type": "stream",
       "stream": "stdout",
       "text": [
        "\r",
        " [-----------------94%---------------   ] 9427 of 10000 complete in 15.0 sec"
       ]
      },
      {
       "output_type": "stream",
       "stream": "stdout",
       "text": [
        "\r",
        " [-----------------97%----------------- ] 9761 of 10000 complete in 15.5 sec"
       ]
      },
      {
       "output_type": "stream",
       "stream": "stdout",
       "text": [
        "\r",
        " [-----------------100%-----------------] 10000 of 10000 complete in 15.9 sec"
       ]
      }
     ],
     "prompt_number": 57
    },
    {
     "cell_type": "code",
     "collapsed": false,
     "input": [
      "plot_regression(w, t, M.mu, M.tau)\n",
      "show()\n",
      "posterior_hist(M.beta[0].trace(), \"beta0\")\n",
      "legend()\n",
      "show()\n",
      "posterior_hist(M.beta[1].trace(), \"beta1\")\n",
      "legend()\n",
      "show()"
     ],
     "language": "python",
     "metadata": {},
     "outputs": [
      {
       "output_type": "stream",
       "stream": "stdout",
       "text": [
        "CI: min=3.949971, max=7.376916\n",
        "CI: min=21.166834, max=22.144527"
       ]
      },
      {
       "output_type": "stream",
       "stream": "stdout",
       "text": [
        "\n"
       ]
      },
      {
       "metadata": {},
       "output_type": "display_data",
       "png": "[encoded data removed]",
       "text": [
        "<matplotlib.figure.Figure at 0x10a5b7890>"
       ]
      },
      {
       "metadata": {},
       "output_type": "display_data",
       "png": "[encoded data removed]",
       "text": [
        "<matplotlib.figure.Figure at 0x10def3d50>"
       ]
      },
      {
       "metadata": {},
       "output_type": "display_data",
       "png": "[encoded data removed]",
       "text": [
        "<matplotlib.figure.Figure at 0x10cbc6590>"
       ]
      }
     ],
     "prompt_number": 58
    },
    {
     "cell_type": "markdown",
     "metadata": {},
     "source": [
      "The point at the upper right exerts enough influence on the slope (via the Normal likelihood) that the value 0 is not in the credible HDI. Kruschke suggests replacing the Normal likelihood with a t-distributed likelihood, whose fatter tails accommodate observations outside the normal distribution. The degrees-of-freedom parameter will be treated as a continuous adjustment of the fatness of the tails, and will be estimated along with the other model parameters, biased towards smaller values: "
     ]
    },
    {
     "cell_type": "code",
     "collapsed": false,
     "input": [
      "def make_t_model(x, y):\n",
      "    \"\"\"\n",
      "    return a dict of model variables for the model constructor\n",
      "    \"\"\"\n",
      "    # priors for the regression coefficients and variance/precision\n",
      "    beta = mc.Container((mc.Normal(\"beta_0\", mu=0, tau=1e-12, value=mean(y)), # population intercept\n",
      "                         mc.Normal(\"beta_1\", mu=0, tau=1e-12, value=0))) # population slope\n",
      "    tau = mc.Gamma(\"tau\", alpha=.001, beta=.001, value=.001)   # population precision\n",
      "    sigma = mc.Lambda(\"sigma\", lambda tau=tau: tau**-0.5)\n",
      "    nuGain = 1\n",
      "    udf = mc.Uniform(\"udf\", 0, 1.0, value=0)\n",
      "    nu = mc.Lambda(\"nu\", lambda udf=udf: 1 - nuGain * np.log(1 - udf)) # nu range [1,infty)\n",
      "\n",
      "    # The distribution of each y_i has mean that is a deterministic function of the x_i\n",
      "    mu = mc.Container([mc.LinearCombination(\"mu_%d\" % i, (1, x[i]), beta)\n",
      "                       for i in x.index])\n",
      "\n",
      "    # likelihood for the data\n",
      "    z_like = mc.Container([mc.NoncentralT(\"z_like_%d\" % i, mu=mu[i], lam=sigma, nu=nu, value=y[i], observed=True)\n",
      "                          for i in y.index])\n",
      "        \n",
      "    return mc.Model(input=locals())\n"
     ],
     "language": "python",
     "metadata": {},
     "outputs": []
    },
    {
     "cell_type": "code",
     "collapsed": false,
     "input": [
      "M = make_t_model(cig.Wt, cig.Tar)\n",
      "plot_regression(cig.Wt, cig.Tar, M.mu, M.tau, \"pre MAP estimate\")\n",
      "show()\n",
      "mc.MAP(M).fit()\n",
      "plot_regression(cig.Wt, cig.Tar, M.mu, M.tau, \"MAP estimate\")\n",
      "show()"
     ],
     "language": "python",
     "metadata": {},
     "outputs": [
      {
       "output_type": "stream",
       "stream": "stdout",
       "text": [
        "CI: min=123.961284, max=123.961284\n"
       ]
      },
      {
       "metadata": {},
       "output_type": "display_data",
       "png": "[encoded data removed]",
       "text": [
        "<matplotlib.figure.Figure at 0x10dae4b90>"
       ]
      },
      {
       "output_type": "stream",
       "stream": "stdout",
       "text": [
        "CI: min=2.213497, max=2.213497\n"
       ]
      },
      {
       "metadata": {},
       "output_type": "display_data",
       "png": "[encoded data removed]",
       "text": [
        "<matplotlib.figure.Figure at 0x10cbdd950>"
       ]
      }
     ],
     "prompt_number": 61
    },
    {
     "cell_type": "code",
     "collapsed": false,
     "input": [
      "S = mc.MCMC(input=M, db='ram')\n",
      "S.sample(10000, burn=1000, thin=10)"
     ],
     "language": "python",
     "metadata": {},
     "outputs": [
      {
       "output_type": "stream",
       "stream": "stdout",
       "text": [
        "\r",
        " [                  2%                  ] 207 of 10000 complete in 0.5 sec"
       ]
      },
      {
       "output_type": "stream",
       "stream": "stdout",
       "text": [
        "\r",
        " [-                 4%                  ] 429 of 10000 complete in 1.0 sec"
       ]
      },
      {
       "output_type": "stream",
       "stream": "stdout",
       "text": [
        "\r",
        " [--                6%                  ] 660 of 10000 complete in 1.5 sec"
       ]
      },
      {
       "output_type": "stream",
       "stream": "stdout",
       "text": [
        "\r",
        " [---               8%                  ] 867 of 10000 complete in 2.0 sec"
       ]
      },
      {
       "output_type": "stream",
       "stream": "stdout",
       "text": [
        "\r",
        " [----             10%                  ] 1092 of 10000 complete in 2.5 sec"
       ]
      },
      {
       "output_type": "stream",
       "stream": "stdout",
       "text": [
        "\r",
        " [----             13%                  ] 1314 of 10000 complete in 3.0 sec"
       ]
      },
      {
       "output_type": "stream",
       "stream": "stdout",
       "text": [
        "\r",
        " [-----            15%                  ] 1534 of 10000 complete in 3.5 sec"
       ]
      },
      {
       "output_type": "stream",
       "stream": "stdout",
       "text": [
        "\r",
        " [------           17%                  ] 1743 of 10000 complete in 4.0 sec"
       ]
      },
      {
       "output_type": "stream",
       "stream": "stdout",
       "text": [
        "\r",
        " [-------          19%                  ] 1966 of 10000 complete in 4.5 sec"
       ]
      },
      {
       "output_type": "stream",
       "stream": "stdout",
       "text": [
        "\r",
        " [--------         21%                  ] 2186 of 10000 complete in 5.0 sec"
       ]
      },
      {
       "output_type": "stream",
       "stream": "stdout",
       "text": [
        "\r",
        " [---------        24%                  ] 2405 of 10000 complete in 5.5 sec"
       ]
      },
      {
       "output_type": "stream",
       "stream": "stdout",
       "text": [
        "\r",
        " [---------        26%                  ] 2622 of 10000 complete in 6.0 sec"
       ]
      },
      {
       "output_type": "stream",
       "stream": "stdout",
       "text": [
        "\r",
        " [----------       28%                  ] 2843 of 10000 complete in 6.5 sec"
       ]
      },
      {
       "output_type": "stream",
       "stream": "stdout",
       "text": [
        "\r",
        " [-----------      30%                  ] 3053 of 10000 complete in 7.0 sec"
       ]
      },
      {
       "output_type": "stream",
       "stream": "stdout",
       "text": [
        "\r",
        " [------------     32%                  ] 3274 of 10000 complete in 7.5 sec"
       ]
      },
      {
       "output_type": "stream",
       "stream": "stdout",
       "text": [
        "\r",
        " [-------------    35%                  ] 3500 of 10000 complete in 8.0 sec"
       ]
      },
      {
       "output_type": "stream",
       "stream": "stdout",
       "text": [
        "\r",
        " [--------------   37%                  ] 3717 of 10000 complete in 8.5 sec"
       ]
      },
      {
       "output_type": "stream",
       "stream": "stdout",
       "text": [
        "\r",
        " [--------------   39%                  ] 3933 of 10000 complete in 9.0 sec"
       ]
      },
      {
       "output_type": "stream",
       "stream": "stdout",
       "text": [
        "\r",
        " [---------------  41%                  ] 4155 of 10000 complete in 9.5 sec"
       ]
      },
      {
       "output_type": "stream",
       "stream": "stdout",
       "text": [
        "\r",
        " [---------------- 43%                  ] 4371 of 10000 complete in 10.0 sec"
       ]
      },
      {
       "output_type": "stream",
       "stream": "stdout",
       "text": [
        "\r",
        " [-----------------45%                  ] 4587 of 10000 complete in 10.5 sec"
       ]
      },
      {
       "output_type": "stream",
       "stream": "stdout",
       "text": [
        "\r",
        " [-----------------47%                  ] 4798 of 10000 complete in 11.0 sec"
       ]
      },
      {
       "output_type": "stream",
       "stream": "stdout",
       "text": [
        "\r",
        " [-----------------50%                  ] 5011 of 10000 complete in 11.5 sec"
       ]
      },
      {
       "output_type": "stream",
       "stream": "stdout",
       "text": [
        "\r",
        " [-----------------52%                  ] 5230 of 10000 complete in 12.0 sec"
       ]
      },
      {
       "output_type": "stream",
       "stream": "stdout",
       "text": [
        "\r",
        " [-----------------54%                  ] 5454 of 10000 complete in 12.5 sec"
       ]
      },
      {
       "output_type": "stream",
       "stream": "stdout",
       "text": [
        "\r",
        " [-----------------56%-                 ] 5659 of 10000 complete in 13.0 sec"
       ]
      },
      {
       "output_type": "stream",
       "stream": "stdout",
       "text": [
        "\r",
        " [-----------------58%--                ] 5873 of 10000 complete in 13.5 sec"
       ]
      },
      {
       "output_type": "stream",
       "stream": "stdout",
       "text": [
        "\r",
        " [-----------------60%---               ] 6083 of 10000 complete in 14.0 sec"
       ]
      },
      {
       "output_type": "stream",
       "stream": "stdout",
       "text": [
        "\r",
        " [-----------------62%---               ] 6297 of 10000 complete in 14.5 sec"
       ]
      },
      {
       "output_type": "stream",
       "stream": "stdout",
       "text": [
        "\r",
        " [-----------------64%----              ] 6465 of 10000 complete in 15.0 sec"
       ]
      },
      {
       "output_type": "stream",
       "stream": "stdout",
       "text": [
        "\r",
        " [-----------------66%-----             ] 6659 of 10000 complete in 15.5 sec"
       ]
      },
      {
       "output_type": "stream",
       "stream": "stdout",
       "text": [
        "\r",
        " [-----------------68%------            ] 6862 of 10000 complete in 16.0 sec"
       ]
      },
      {
       "output_type": "stream",
       "stream": "stdout",
       "text": [
        "\r",
        " [-----------------70%------            ] 7096 of 10000 complete in 16.5 sec"
       ]
      },
      {
       "output_type": "stream",
       "stream": "stdout",
       "text": [
        "\r",
        " [-----------------73%-------           ] 7313 of 10000 complete in 17.0 sec"
       ]
      },
      {
       "output_type": "stream",
       "stream": "stdout",
       "text": [
        "\r",
        " [-----------------75%--------          ] 7529 of 10000 complete in 17.5 sec"
       ]
      },
      {
       "output_type": "stream",
       "stream": "stdout",
       "text": [
        "\r",
        " [-----------------77%---------         ] 7748 of 10000 complete in 18.0 sec"
       ]
      },
      {
       "output_type": "stream",
       "stream": "stdout",
       "text": [
        "\r",
        " [-----------------79%----------        ] 7970 of 10000 complete in 18.5 sec"
       ]
      },
      {
       "output_type": "stream",
       "stream": "stdout",
       "text": [
        "\r",
        " [-----------------81%-----------       ] 8193 of 10000 complete in 19.0 sec"
       ]
      },
      {
       "output_type": "stream",
       "stream": "stdout",
       "text": [
        "\r",
        " [-----------------84%-----------       ] 8405 of 10000 complete in 19.5 sec"
       ]
      },
      {
       "output_type": "stream",
       "stream": "stdout",
       "text": [
        "\r",
        " [-----------------86%------------      ] 8607 of 10000 complete in 20.0 sec"
       ]
      },
      {
       "output_type": "stream",
       "stream": "stdout",
       "text": [
        "\r",
        " [-----------------88%-------------     ] 8806 of 10000 complete in 20.5 sec"
       ]
      },
      {
       "output_type": "stream",
       "stream": "stdout",
       "text": [
        "\r",
        " [-----------------90%--------------    ] 9002 of 10000 complete in 21.0 sec"
       ]
      },
      {
       "output_type": "stream",
       "stream": "stdout",
       "text": [
        "\r",
        " [-----------------92%---------------   ] 9218 of 10000 complete in 21.5 sec"
       ]
      },
      {
       "output_type": "stream",
       "stream": "stdout",
       "text": [
        "\r",
        " [-----------------94%---------------   ] 9429 of 10000 complete in 22.1 sec"
       ]
      },
      {
       "output_type": "stream",
       "stream": "stdout",
       "text": [
        "\r",
        " [-----------------96%----------------  ] 9634 of 10000 complete in 22.6 sec"
       ]
      },
      {
       "output_type": "stream",
       "stream": "stdout",
       "text": [
        "\r",
        " [-----------------98%----------------- ] 9846 of 10000 complete in 23.1 sec"
       ]
      },
      {
       "output_type": "stream",
       "stream": "stdout",
       "text": [
        "\r",
        " [-----------------100%-----------------] 10000 of 10000 complete in 23.4 sec"
       ]
      }
     ],
     "prompt_number": 62
    },
    {
     "cell_type": "code",
     "collapsed": false,
     "input": [
      "plot_regression(cig.Wt, cig.Tar, M.mu, M.tau) # XXX wrong CI, y's are not normally distributed\n",
      "show()\n",
      "posterior_hist(M.beta[0].trace(), \"beta0\")\n",
      "legend()\n",
      "show()\n",
      "posterior_hist(M.beta[1].trace(), \"beta1\")\n",
      "legend()\n",
      "show()\n",
      "posterior_hist(M.nu.trace(), \"nu\")\n",
      "legend()\n",
      "show()"
     ],
     "language": "python",
     "metadata": {},
     "outputs": [
      {
       "output_type": "stream",
       "stream": "stdout",
       "text": [
        "CI: min=4.045670, max=9.016365\n",
        "CI: min=4.145560, max=9.188081"
       ]
      },
      {
       "output_type": "stream",
       "stream": "stdout",
       "text": [
        "\n"
       ]
      },
      {
       "metadata": {},
       "output_type": "display_data",
       "png": "[encoded data removed]",
       "text": [
        "<matplotlib.figure.Figure at 0x114e6e750>"
       ]
      },
      {
       "metadata": {},
       "output_type": "display_data",
       "png": "[encoded data removed]",
       "text": [
        "<matplotlib.figure.Figure at 0x116c3eb50>"
       ]
      },
      {
       "metadata": {},
       "output_type": "display_data",
       "png": "[encoded data removed]",
       "text": [
        "<matplotlib.figure.Figure at 0x10c24d7d0>"
       ]
      },
      {
       "metadata": {},
       "output_type": "display_data",
       "png": "[encoded data removed]",
       "text": [
        "<matplotlib.figure.Figure at 0x10dab2110>"
       ]
      }
     ],
     "prompt_number": 63
    },
    {
     "cell_type": "heading",
     "level": 2,
     "metadata": {},
     "source": [
      "Repeated Measures"
     ]
    },
    {
     "cell_type": "markdown",
     "metadata": {},
     "source": [
      "This final example uses the lung toxin clearance dataset from [H.A.Feldman](). Repeated measurements per subject are modeled via a hierarchic prior on the regression coefficients, and outliers are accommodated via a t-distribution for the likelihoods. There's a small bit of data cleaning to do on the [Feldman table](\"feldman.csv\"), to extract group1 data and exclude missing data\n",
      ". Let's wrangle this with a Pandas Dataframe."
     ]
    },
    {
     "cell_type": "code",
     "collapsed": false,
     "input": [
      "feldman = pd.read_csv(\"feldman.csv\", index_col=0)\n",
      "group1 = feldman.ix[feldman.group == 1]\n",
      "group1 = group1.ix[group1.retention.notnull()]\n",
      "group1[:15]"
     ],
     "language": "python",
     "metadata": {},
     "outputs": []
    }
   ],
   "metadata": {}
  }
 ]
}