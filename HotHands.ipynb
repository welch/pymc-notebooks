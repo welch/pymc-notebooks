{
 "metadata": {
  "name": ""
 },
 "nbformat": 3,
 "nbformat_minor": 0,
 "worksheets": [
  {
   "cells": [
    {
     "cell_type": "heading",
     "level": 3,
     "metadata": {},
     "source": [
      "Hot Hot Hands"
     ]
    },
    {
     "cell_type": "markdown",
     "metadata": {},
     "source": [
      "An exercise in Kruschke's [Doing Bayesian Data Analysis](http://amzn.com/0123814855) has you build a probability model for pairs of free throws, the second conditioned on the success of the first, and asks whether a \"hot hand\" phenomenon exists among NBA players. \n",
      "\n",
      "There's a [nice demo](https://www.wakari.io/sharing/bundle/wakari_demo/ipcluster_mcmc) running PyMC on IPCluster to solve this problem for many players at once, but why should they have all the fun? Here we work the original Larry Bird hot hands exercise, with some other bonuses.\n"
     ]
    },
    {
     "cell_type": "code",
     "collapsed": false,
     "input": [
      "# Set up the environment for successive computational cells. \n",
      "# This stuff will not be repeated below, be sure to run this cell first.\n",
      "\n",
      "import pymc as mc\n",
      "import numpy as np\n",
      "from pymc import deterministic\n",
      "from IPython.display import Image\n",
      "\n",
      "class Struct:\n",
      "    # convenience 'bag of attributes' class\n",
      "    def __init__(self, **entries): self.__dict__.update(entries)\n",
      "        \n",
      "def show_graph(model):\n",
      "    \"\"\"display a graphical representation of the model\"\"\"\n",
      "    graph = mc.graph.graph(model)\n",
      "    Image(graph.create_png())\n",
      "\n",
      "def posterior_hist(trace, label=\"\", HDI=.95, alpha=1.0):   \n",
      "    \"\"\"Render a histogram of the posterior sampling distribution of a model variable.\"\"\"\n",
      "    t = sorted(trace)\n",
      "    h = hist(t, normed=True, alpha=alpha, label=\"%s:%.2f\" % (label, mean(t)))\n",
      "    ymax = max(h[0])\n",
      "    axvline(mean(t), c='red', linestyle='-.')\n",
      "    hdidx = int(len(t)*(1 - HDI)/2.) \n",
      "    annotate(\"\", xy=(t[hdidx],0), xytext=(t[-hdidx],0),\n",
      "             arrowprops=dict(arrowstyle=\"|-|\", connectionstyle=\"arc3\", color='k', lw=2))\n",
      "    "
     ],
     "language": "python",
     "metadata": {},
     "outputs": [],
     "prompt_number": 21
    },
    {
     "cell_type": "markdown",
     "metadata": {},
     "source": [
      "The text presents Larry Bird's free throw data as shot totals after an initial make or miss. We need to synthesize a list of throw events (success/fail) that match these proportions, to serve as the observed data for our Bernoulli likelihoods:"
     ]
    },
    {
     "cell_type": "code",
     "collapsed": false,
     "input": [
      "# free throw data for Larry Bird, 1980-1982. \n",
      "#\n",
      "throws = Struct(\n",
      "    hit_hit = [i < 251 for i in range(285)], # list of throw successes after an initial hit\n",
      "    hit_miss = [i < 48 for i in range(53)]   # list of throw successes after an initial miss\n",
      ")"
     ],
     "language": "python",
     "metadata": {},
     "outputs": [],
     "prompt_number": 22
    },
    {
     "cell_type": "markdown",
     "metadata": {},
     "source": [
      "On to the model. We are estimating two parameters: the probabilities of making a second throw, after making or missing the first throw. We are given the make/miss counts, which can be treated as Bernoulli trial outcomes. To perform Bayesian estimation of the two probabilities, Kruschke suggests a Beta(30,10) prior for each, corresponding to the belief that NBA players make about 75% of their throws, $E[[Beta_{\\alpha,\\beta}]] = \\alpha/(\\alpha+\\beta)$.\n"
     ]
    },
    {
     "cell_type": "code",
     "collapsed": false,
     "input": [
      "def make_model():\n",
      "    \"\"\"\n",
      "    Return a dict populated with our model variables.\n",
      "    \"\"\"\n",
      "    # We need to feed a Model constructor a collection of named variables, and the \n",
      "    # prettiest way to do that is by exporting a dict of the local scope of a function, \n",
      "    # like we do here.\n",
      "\n",
      "    # Beta priors for our Bernoulli likelihoods. Assume NBA players make 75% of their shots.\n",
      "    phit_hit =  mc.Beta('phit_hit',  30, 10) # prob. of making second after making first\n",
      "    phit_miss = mc.Beta('phit_miss', 30, 10) # prob. of making second after missing first\n",
      "\n",
      "    # likelihood for observed second throws. Each throw is a Bernoulli trial.\n",
      "    hit_hit = mc.Container(\n",
      "                [mc.Bernoulli('hit_hit%d' % i, p=phit_hit, value=throw, observed=True) \n",
      "                for i, throw in enumerate(throws.hit_hit)])\n",
      "    hit_miss = mc.Container(\n",
      "                [mc.Bernoulli('hit_miss%d' % i, p=phit_miss, value=throw, observed=True)\n",
      "                for i, throw in enumerate(throws.hit_miss)])\n",
      "\n",
      "    # The statistic we care about is the difference between the hit/miss probabilities\n",
      "    # You could get a deterministic implicitly with 'diff = phit_hit - phit_miss' but it \n",
      "    # would default to having a strange name and trace=False. LinearCombination sets it \n",
      "    # up as a one-liner.\n",
      "    diff = mc.LinearCombination(\"diff\", [phit_hit, phit_miss], [1, -1])\n",
      "    \n",
      "    return locals() # give it up for the MC!\n",
      "\n",
      "# Instantiate and fit the model\n",
      "S = mc.MCMC(make_model(), db='ram')\n",
      "mc.MAP(S).fit() # load MAP estimates into our nodes as starting points\n",
      "S.sample(10000, burn=1000, thin=2)\n",
      "posterior_hist(S.phit_hit.trace(), \"hit_hit\", alpha=.5)\n",
      "posterior_hist(S.phit_miss.trace(), \"hit_miss\", alpha=.5)\n",
      "legend(loc='upper left')\n",
      "show()\n",
      "posterior_hist(S.diff.trace(), \"diff\", alpha=.5)\n",
      "legend(loc='upper left')\n",
      "show()\n",
      "S.summary()"
     ],
     "language": "python",
     "metadata": {},
     "outputs": [
      {
       "output_type": "stream",
       "stream": "stdout",
       "text": [
        " \r",
        "[****************100%******************]  10000 of 10000 complete"
       ]
      },
      {
       "metadata": {},
       "output_type": "display_data",
       "png": "[encoded data removed]",
       "text": [
        "<matplotlib.figure.Figure at 0x10ecfb890>"
       ]
      },
      {
       "metadata": {},
       "output_type": "display_data",
       "png": "[encoded data removed]",
       "text": [
        "<matplotlib.figure.Figure at 0x10d1b0f90>"
       ]
      },
      {
       "output_type": "stream",
       "stream": "stdout",
       "text": [
        "\n",
        "diff:\n",
        " \n",
        "\tMean             SD               MC Error        95% HPD interval\n",
        "\t------------------------------------------------------------------\n",
        "\t0.022            0.042            0.001            [-0.054  0.106]\n",
        "\t\n",
        "\t\n",
        "\tPosterior quantiles:\n",
        "\t\n",
        "\t2.5             25              50              75             97.5\n",
        "\t |---------------|===============|===============|---------------|\n",
        "\t-0.051           -0.006          0.019          0.05          0.111\n",
        "\t\n",
        "\n",
        "phit_miss:\n",
        " \n",
        "\tMean             SD               MC Error        95% HPD interval\n",
        "\t------------------------------------------------------------------\n",
        "\t0.843            0.039            0.001            [ 0.765  0.911]\n",
        "\t\n",
        "\t\n",
        "\tPosterior quantiles:\n",
        "\t\n",
        "\t2.5             25              50              75             97.5\n",
        "\t |---------------|===============|===============|---------------|\n",
        "\t0.758            0.82            0.848          0.87          0.906\n",
        "\t\n",
        "\n",
        "phit_hit:\n",
        " \n",
        "\tMean             SD               MC Error        95% HPD interval\n",
        "\t------------------------------------------------------------------\n",
        "\t0.865            0.018            0.001            [ 0.829  0.9  ]\n",
        "\t\n",
        "\t\n",
        "\tPosterior quantiles:\n",
        "\t\n",
        "\t2.5             25              50              75             97.5\n",
        "\t |---------------|===============|===============|---------------|\n",
        "\t0.826            0.853           0.866          0.876         0.899\n",
        "\t\n",
        "\n"
       ]
      }
     ],
     "prompt_number": 23
    },
    {
     "cell_type": "markdown",
     "metadata": {},
     "source": [
      "Notice that a difference of 0 is within the 95% HDI, and thus it is credible to conclude no hot hand for Mr. Bird. But I'm bothered by using the same prior for hit/miss data having different numbers of observed hits and misses. To see this more clearly, consider a reparameterization of Beta in terms of its mean $\\mu$ and a \"confidence\" K:\n",
      "\n",
      "$Beta(a, b) = Beta(\\mu*K, (1-\\mu)*K)$\n",
      "\n",
      "K controls the prior mean's weight against new observations during updating. Since we use the same prior for both throw probabilities, we have built-in an initial bias towards these probabilities being the same. But because there are very different numbers of hit_hit vs hit_miss events, their posteriors feel the effect of an equivalent K differently. If 75% is the proper unconditional mean, then we will only be 1/3 as certain about prior hit_miss outcomes as hit_hit outcomes (because we only see 1/3 as many initial misses as initial hits): "
     ]
    },
    {
     "cell_type": "code",
     "collapsed": false,
     "input": [
      "def make_model():\n",
      "    \"\"\"\n",
      "    Return a dict populated with our model variables.\n",
      "    \"\"\"\n",
      "    # Beta priors for our Bernoulli likelihoods. Assume NBA players make 75% of their shots.\n",
      "    # We reparameterize Beta in terms of mean (mu) and confidence (K):\n",
      "    # Beta(a, b) = Beta(mu*K, (1-mu)*K).\n",
      "    mu, K_hit, K_miss = (.75, 40, 13.3 )\n",
      "    phit_hit = mc.Beta('phit_hit',mu*K_hit, (1-mu)*K_hit) # prob. of making second after making first\n",
      "    phit_miss = mc.Beta('phit_miss', mu*K_miss, (1-mu)*K_miss) # prob. of making second after missing first\n",
      "\n",
      "    # likelihood for observed second throws. Each throw is a Bernoulli trial.\n",
      "    hit_hit = mc.Container(\n",
      "                [mc.Bernoulli('hit_hit%d' % i, p=phit_hit, value=throw, observed=True) \n",
      "                for i, throw in enumerate(throws.hit_hit)])\n",
      "    hit_miss = mc.Container(\n",
      "                [mc.Bernoulli('hit_miss%d' % i, p=phit_miss, value=throw, observed=True)\n",
      "                for i, throw in enumerate(throws.hit_miss)])\n",
      "\n",
      "    # The statistic we care about is the difference between the hit/miss probabilities\n",
      "    diff = mc.LinearCombination(\"diff\", [phit_hit, phit_miss], [1, -1])\n",
      "    \n",
      "    return locals()\n",
      "\n",
      "# Instantiate and fit the model\n",
      "S = mc.MCMC(make_model(), db='ram')\n",
      "mc.MAP(S).fit() # load MAP estimates into our nodes as starting points\n",
      "S.sample(10000, burn=1000, thin=2)\n",
      "posterior_hist(S.phit_hit.trace(), \"hit_hit\", alpha=.5)\n",
      "posterior_hist(S.phit_miss.trace(), \"hit_miss\", alpha=.5)\n",
      "legend()\n",
      "show()\n",
      "posterior_hist(S.diff.trace(), \"diff\", alpha=.5)\n",
      "legend()\n",
      "show()\n",
      "S.summary()"
     ],
     "language": "python",
     "metadata": {},
     "outputs": [
      {
       "output_type": "stream",
       "stream": "stdout",
       "text": [
        " \r",
        "[****************100%******************]  10000 of 10000 complete"
       ]
      },
      {
       "metadata": {},
       "output_type": "display_data",
       "png": "[encoded data removed]",
       "text": [
        "<matplotlib.figure.Figure at 0x10f2f4d50>"
       ]
      },
      {
       "metadata": {},
       "output_type": "display_data",
       "png": "[encoded data removed]",
       "text": [
        "<matplotlib.figure.Figure at 0x10ece4990>"
       ]
      },
      {
       "output_type": "stream",
       "stream": "stdout",
       "text": [
        "\n",
        "phit_miss:\n",
        " \n",
        "\tMean             SD               MC Error        95% HPD interval\n",
        "\t------------------------------------------------------------------\n",
        "\t0.875            0.039            0.002            [ 0.8    0.941]\n",
        "\t\n",
        "\t\n",
        "\tPosterior quantiles:\n",
        "\t\n",
        "\t2.5             25              50              75             97.5\n",
        "\t |---------------|===============|===============|---------------|\n",
        "\t0.792            0.849           0.881          0.903         0.934\n",
        "\t\n",
        "\n",
        "phit_hit:\n",
        " \n",
        "\tMean             SD               MC Error        95% HPD interval\n",
        "\t------------------------------------------------------------------\n",
        "\t0.865            0.02             0.001            [ 0.826  0.904]\n",
        "\t\n",
        "\t\n",
        "\tPosterior quantiles:\n",
        "\t\n",
        "\t2.5             25              50              75             97.5\n",
        "\t |---------------|===============|===============|---------------|\n",
        "\t0.825            0.852           0.867          0.879         0.903\n",
        "\t\n",
        "\n",
        "diff:\n",
        " \n",
        "\tMean             SD               MC Error        95% HPD interval\n",
        "\t------------------------------------------------------------------\n",
        "\t-0.01            0.042            0.002            [-0.087  0.076]\n",
        "\t\n",
        "\t\n",
        "\tPosterior quantiles:\n",
        "\t\n",
        "\t2.5             25              50              75             97.5\n",
        "\t |---------------|===============|===============|---------------|\n",
        "\t-0.084           -0.037          -0.014         0.018         0.081\n",
        "\t\n",
        "\n"
       ]
      }
     ],
     "prompt_number": 24
    },
    {
     "cell_type": "markdown",
     "metadata": {},
     "source": [
      "Wha? The miss density is centered farther right than the hit density? Consider the original raw data: 48/53 is indeed greater than 251/285. The only reason our initial estimate showed a slightly hot hand is the unequal biasing towards the prior because of data size!"
     ]
    },
    {
     "cell_type": "markdown",
     "metadata": {},
     "source": [
      "Continuing this example, recall that if you want to count successes in N Bernoulli(p) trials (like we do here for throws), that count will be distributed as Binomial(n,p). If we specify a Binomial likelihood for throw counts instead of a product of N Bernoulli likelihoods for individual throws, we should get the same estimate for the difference."
     ]
    },
    {
     "cell_type": "code",
     "collapsed": false,
     "input": [
      "def make_model():\n",
      "    \"\"\"\n",
      "    Return a dict populated with our model variables.\n",
      "    \"\"\"\n",
      "    # Beta priors for our Bernoulli likelihoods. Assume NBA players make 75% of their shots.\n",
      "    mu, K_hit, K_miss = (.75, 40, 13.3 )\n",
      "    phit_hit = mc.Beta('phit_hit',mu*K_hit, (1-mu)*K_hit) # prob. of making second after making first\n",
      "    phit_miss = mc.Beta('phit_miss', mu*K_miss, (1-mu)*K_miss) # prob. of making second after missing first\n",
      "\n",
      "    # likelihood for observed number of second throw successs. Each is ~ Binomial \n",
      "    hit_hit = mc.Binomial('hit_hit', n = len(throws.hit_hit), p=phit_hit, value=sum(throws.hit_hit), observed=True)\n",
      "    hit_miss = mc.Binomial('hit_miss', n = len(throws.hit_miss), p=phit_miss, value=sum(throws.hit_miss), observed=True) \n",
      "\n",
      "    # The statistic we care about is the difference between the hit/miss probabilities\n",
      "    diff = mc.LinearCombination(\"diff\", [phit_hit, phit_miss], [1, -1])\n",
      "    \n",
      "    return locals()\n",
      "\n",
      "# Instantiate and fit the model\n",
      "S = mc.MCMC(make_model(), db='ram')\n",
      "mc.MAP(S).fit() # load MAP estimates into our nodes as starting points\n",
      "S.sample(10000, burn=1000, thin=2)\n",
      "posterior_hist(S.phit_hit.trace(), \"hit_hit\", alpha=.5)\n",
      "posterior_hist(S.phit_miss.trace(), \"hit_miss\", alpha=.5)\n",
      "legend(loc='upper left')\n",
      "show()\n",
      "posterior_hist(S.diff.trace(), \"diff\", alpha=.5)\n",
      "legend()\n",
      "show()\n",
      "S.summary()"
     ],
     "language": "python",
     "metadata": {},
     "outputs": [
      {
       "output_type": "stream",
       "stream": "stdout",
       "text": [
        " \r",
        "[****************100%******************]  10000 of 10000 complete"
       ]
      },
      {
       "metadata": {},
       "output_type": "display_data",
       "png": "[encoded data removed]",
       "text": [
        "<matplotlib.figure.Figure at 0x10f2faa50>"
       ]
      },
      {
       "metadata": {},
       "output_type": "display_data",
       "png": "[encoded data removed]",
       "text": [
        "<matplotlib.figure.Figure at 0x10f7563d0>"
       ]
      },
      {
       "output_type": "stream",
       "stream": "stdout",
       "text": [
        "\n",
        "phit_hit:\n",
        " \n",
        "\tMean             SD               MC Error        95% HPD interval\n",
        "\t------------------------------------------------------------------\n",
        "\t0.863            0.019            0.001            [ 0.823  0.901]\n",
        "\t\n",
        "\t\n",
        "\tPosterior quantiles:\n",
        "\t\n",
        "\t2.5             25              50              75             97.5\n",
        "\t |---------------|===============|===============|---------------|\n",
        "\t0.823            0.852           0.863          0.876         0.901\n",
        "\t\n",
        "\n",
        "phit_miss:\n",
        " \n",
        "\tMean             SD               MC Error        95% HPD interval\n",
        "\t------------------------------------------------------------------\n",
        "\t0.875            0.042            0.002            [ 0.782  0.942]\n",
        "\t\n",
        "\t\n",
        "\tPosterior quantiles:\n",
        "\t\n",
        "\t2.5             25              50              75             97.5\n",
        "\t |---------------|===============|===============|---------------|\n",
        "\t0.776            0.85            0.879          0.905         0.94\n",
        "\t\n",
        "\n",
        "diff:\n",
        " \n",
        "\tMean             SD               MC Error        95% HPD interval\n",
        "\t------------------------------------------------------------------\n",
        "\t-0.011           0.046            0.002            [-0.102  0.083]\n",
        "\t\n",
        "\t\n",
        "\tPosterior quantiles:\n",
        "\t\n",
        "\t2.5             25              50              75             97.5\n",
        "\t |---------------|===============|===============|---------------|\n",
        "\t-0.095           -0.043          -0.016         0.016         0.097\n",
        "\t\n",
        "\n"
       ]
      }
     ],
     "prompt_number": 25
    },
    {
     "cell_type": "markdown",
     "metadata": {},
     "source": [
      "There is a very small difference between this and the Bernoulli likelihood results, which we attribute to not recalibrating K relative to our repackaging of all observations into two Binomial observations."
     ]
    },
    {
     "cell_type": "code",
     "collapsed": false,
     "input": [],
     "language": "python",
     "metadata": {},
     "outputs": [],
     "prompt_number": 25
    }
   ],
   "metadata": {}
  }
 ]
}